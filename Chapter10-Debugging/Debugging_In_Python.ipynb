{
 "cells": [
  {
   "cell_type": "markdown",
   "metadata": {},
   "source": [
    "<center><h1>Debugging in Python</h1></center><br><br>"
   ]
  },
  {
   "cell_type": "markdown",
   "metadata": {},
   "source": [
    "<h3>raise statement :</h3>"
   ]
  },
  {
   "cell_type": "code",
   "execution_count": null,
   "metadata": {},
   "outputs": [],
   "source": [
    "length = 0\n",
    "if(length == 0):\n",
    "    raise Exception('This is an exception using raise statement. Length cannot be 0')"
   ]
  },
  {
   "cell_type": "markdown",
   "metadata": {},
   "source": [
    "<br>"
   ]
  },
  {
   "cell_type": "markdown",
   "metadata": {},
   "source": [
    "<h3>Getting Exception message as a string :</h3>\n",
    "Using <b>traceback</b> module..."
   ]
  },
  {
   "cell_type": "code",
   "execution_count": 6,
   "metadata": {},
   "outputs": [
    {
     "name": "stdout",
     "output_type": "stream",
     "text": [
      "Traceback (most recent call last):\n",
      "  File \"<ipython-input-6-7677494f2f30>\", line 3, in <module>\n",
      "    raise Exception('This is an Exception using raise statement')\n",
      "Exception: This is an Exception using raise statement\n",
      "\n",
      "From the file :\n",
      "Traceback (most recent call last):\n",
      "  File \"<ipython-input-6-7677494f2f30>\", line 3, in <module>\n",
      "    raise Exception('This is an Exception using raise statement')\n",
      "Exception: This is an Exception using raise statement\n",
      "\n"
     ]
    }
   ],
   "source": [
    "import traceback\n",
    "try:\n",
    "    raise Exception('This is an Exception using raise statement')\n",
    "except:\n",
    "    print(traceback.format_exc())\n",
    "    \n",
    "    #Also writing the exception message to a file\n",
    "    exceptionFile = open('exceptionFile.txt','a')\n",
    "    exceptionFile.write(traceback.format_exc())\n",
    "    exceptionFile.close()\n",
    "    \n",
    "    exceptionFile = open('exceptionFile.txt','r')\n",
    "    exception = exceptionFile.read()\n",
    "    print('From the file :')\n",
    "    print(exception)"
   ]
  },
  {
   "cell_type": "markdown",
   "metadata": {},
   "source": [
    "<h3>assert statement :</h3>"
   ]
  },
  {
   "cell_type": "code",
   "execution_count": 3,
   "metadata": {},
   "outputs": [
    {
     "ename": "AssertionError",
     "evalue": "This is an exception using assert statement. Length cannot be 0",
     "output_type": "error",
     "traceback": [
      "\u001b[0;31m---------------------------------------------------------------------------\u001b[0m",
      "\u001b[0;31mAssertionError\u001b[0m                            Traceback (most recent call last)",
      "\u001b[0;32m<ipython-input-3-5ff61b4ac7e2>\u001b[0m in \u001b[0;36m<module>\u001b[0;34m()\u001b[0m\n\u001b[1;32m      1\u001b[0m \u001b[0mlength\u001b[0m \u001b[0;34m=\u001b[0m \u001b[0;36m0\u001b[0m\u001b[0;34m\u001b[0m\u001b[0m\n\u001b[0;32m----> 2\u001b[0;31m \u001b[0;32massert\u001b[0m \u001b[0mlength\u001b[0m \u001b[0;34m>\u001b[0m \u001b[0;36m0\u001b[0m\u001b[0;34m,\u001b[0m\u001b[0;34m'This is an exception using assert statement. Length cannot be 0'\u001b[0m\u001b[0;34m\u001b[0m\u001b[0m\n\u001b[0m",
      "\u001b[0;31mAssertionError\u001b[0m: This is an exception using assert statement. Length cannot be 0"
     ]
    }
   ],
   "source": [
    "length = 0\n",
    "assert length > 0,'This is an exception using assert statement. Length cannot be 0'"
   ]
  },
  {
   "cell_type": "markdown",
   "metadata": {},
   "source": [
    "<br>"
   ]
  },
  {
   "cell_type": "markdown",
   "metadata": {},
   "source": [
    "<h3>Logging :</h3>\n",
    "Using <b>logging</b> module..."
   ]
  },
  {
   "cell_type": "markdown",
   "metadata": {},
   "source": [
    "There are 5 levels of logs :\n",
    "<ul>\n",
    "    <li>debug</li>\n",
    "    <li>info</li>\n",
    "    <li>warning</li>\n",
    "    <li>error</li>\n",
    "    <li>critical</li>\n",
    "</ul>\n",
    "They are in increasing priority."
   ]
  },
  {
   "cell_type": "code",
   "execution_count": 8,
   "metadata": {},
   "outputs": [
    {
     "name": "stderr",
     "output_type": "stream",
     "text": [
      "2018-07-18 00:31:50,119 - DEBUG - Start of program...\n",
      "2018-07-18 00:31:50,124 - DEBUG - Start of factorial(5)...\n",
      "2018-07-18 00:31:50,125 - DEBUG - i = 5 and total = 1...\n",
      "2018-07-18 00:31:50,126 - DEBUG - i = 5 and total = 2...\n",
      "2018-07-18 00:31:50,129 - DEBUG - i = 5 and total = 6...\n",
      "2018-07-18 00:31:50,130 - DEBUG - i = 5 and total = 24...\n",
      "2018-07-18 00:31:50,130 - DEBUG - i = 5 and total = 120...\n",
      "2018-07-18 00:31:50,131 - DEBUG - Return value is 120...\n",
      "2018-07-18 00:31:50,132 - DEBUG - End of program...\n"
     ]
    },
    {
     "name": "stdout",
     "output_type": "stream",
     "text": [
      "120\n"
     ]
    }
   ],
   "source": [
    "import logging\n",
    "#logging configuration line\n",
    "logging.basicConfig(level = logging.DEBUG, format = '%(asctime)s - %(levelname)s - %(message)s')\n",
    "\n",
    "logging.debug('Start of program...')\n",
    "#logging.info('Start of program...')\n",
    "#logging.warning('Start of program...')\n",
    "#logging.error('Start of program...')\n",
    "#logging.critical('Start of program...')\n",
    "\n",
    "def factorial(number):\n",
    "    logging.debug('Start of factorial(%s)...' %(number))\n",
    "    total = 1\n",
    "    for i in range(1, number + 1):\n",
    "        total *= i\n",
    "        logging.debug('i = %s and total = %s...' %(number, total))\n",
    "        \n",
    "    logging.debug('Return value is %s...' %(total))\n",
    "    return total\n",
    "    \n",
    "print(factorial(5))\n",
    "\n",
    "logging.debug('End of program...')\n",
    "        "
   ]
  },
  {
   "cell_type": "markdown",
   "metadata": {},
   "source": [
    "<b>To disable all the logging commands :</b> "
   ]
  },
  {
   "cell_type": "code",
   "execution_count": 10,
   "metadata": {},
   "outputs": [],
   "source": [
    "#critical to disablea log of all priorities\n",
    "logging.disable(logging.CRITICAL)"
   ]
  },
  {
   "cell_type": "markdown",
   "metadata": {},
   "source": [
    "<b>To save all the logs to a file :</b>"
   ]
  },
  {
   "cell_type": "code",
   "execution_count": 12,
   "metadata": {},
   "outputs": [
    {
     "name": "stdout",
     "output_type": "stream",
     "text": [
      "120\n"
     ]
    }
   ],
   "source": [
    "import logging\n",
    "#logging configuration line\n",
    "#The filename argument sends all the logs to the file specified\n",
    "logging.basicConfig(filename = 'logs.txt', level = logging.DEBUG, format = '%(asctime)s - %(levelname)s - %(message)s')\n",
    "\n",
    "logging.debug('Start of program...')\n",
    "#logging.info('Start of program...')\n",
    "#logging.warning('Start of program...')\n",
    "#logging.error('Start of program...')\n",
    "#logging.critical('Start of program...')\n",
    "\n",
    "def factorial(number):\n",
    "    logging.debug('Start of factorial(%s)...' %(number))\n",
    "    total = 1\n",
    "    for i in range(1, number + 1):\n",
    "        total *= i\n",
    "        logging.debug('i = %s and total = %s...' %(number, total))\n",
    "        \n",
    "    logging.debug('Return value is %s...' %(total))\n",
    "    return total\n",
    "    \n",
    "print(factorial(5))\n",
    "\n",
    "logging.debug('End of program...')"
   ]
  },
  {
   "cell_type": "code",
   "execution_count": null,
   "metadata": {},
   "outputs": [],
   "source": []
  }
 ],
 "metadata": {
  "kernelspec": {
   "display_name": "Python 3",
   "language": "python",
   "name": "python3"
  },
  "language_info": {
   "codemirror_mode": {
    "name": "ipython",
    "version": 3
   },
   "file_extension": ".py",
   "mimetype": "text/x-python",
   "name": "python",
   "nbconvert_exporter": "python",
   "pygments_lexer": "ipython3",
   "version": "3.6.5"
  }
 },
 "nbformat": 4,
 "nbformat_minor": 2
}
